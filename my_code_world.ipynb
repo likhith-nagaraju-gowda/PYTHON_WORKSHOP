{
  "nbformat": 4,
  "nbformat_minor": 0,
  "metadata": {
    "colab": {
      "name": "my code world.ipynb",
      "provenance": [],
      "authorship_tag": "ABX9TyNb9zDLQg7XBXBCLZSQalr8",
      "include_colab_link": true
    },
    "kernelspec": {
      "name": "python3",
      "display_name": "Python 3"
    }
  },
  "cells": [
    {
      "cell_type": "markdown",
      "metadata": {
        "id": "view-in-github",
        "colab_type": "text"
      },
      "source": [
        "<a href=\"https://colab.research.google.com/github/likhith-nagaraju-gowda/PYTHON_WORKSHOP/blob/main/my_code_world.ipynb\" target=\"_parent\"><img src=\"https://colab.research.google.com/assets/colab-badge.svg\" alt=\"Open In Colab\"/></a>"
      ]
    },
    {
      "cell_type": "markdown",
      "metadata": {
        "id": "EnYellex3_Cr"
      },
      "source": [
        "hello boss program"
      ]
    },
    {
      "cell_type": "code",
      "metadata": {
        "id": "38KYhVjo0uIV",
        "colab": {
          "base_uri": "https://localhost:8080/"
        },
        "outputId": "3ccc42c7-5c3a-4855-ce90-3456bafbbcc5"
      },
      "source": [
        "print(\"hello boss\")\r\n"
      ],
      "execution_count": null,
      "outputs": [
        {
          "output_type": "stream",
          "text": [
            "hello boss\n"
          ],
          "name": "stdout"
        }
      ]
    },
    {
      "cell_type": "code",
      "metadata": {
        "colab": {
          "base_uri": "https://localhost:8080/"
        },
        "id": "QgLycCtF6K74",
        "outputId": "816cd503-dc8b-4da9-aa43-dd02081c68f5"
      },
      "source": [
        "\r\n",
        "g = \"gouri\"\r\n",
        "print(type(g))\r\n",
        "print(type(x))\r\n",
        "x=int(.999)\r\n",
        "print(x)\r\n",
        "x , y , z = \"orange\",7,int(7.333)\r\n",
        "print(x,y,z)\r\n",
        "print(y)\r\n",
        "print(z)\r\n",
        "x = y = z = \"sharu cherry\"\r\n",
        "print(x)\r\n",
        "print(y)\r\n",
        "print(z)"
      ],
      "execution_count": null,
      "outputs": [
        {
          "output_type": "stream",
          "text": [
            "<class 'str'>\n",
            "<class 'str'>\n",
            "0\n",
            "orange 7 7\n",
            "7\n",
            "7\n",
            "sharu cherry\n",
            "sharu cherry\n",
            "sharu cherry\n"
          ],
          "name": "stdout"
        }
      ]
    },
    {
      "cell_type": "markdown",
      "metadata": {
        "id": "SlnHEc7nA34J"
      },
      "source": [
        "exercise 1 and 2"
      ]
    },
    {
      "cell_type": "code",
      "metadata": {
        "colab": {
          "base_uri": "https://localhost:8080/"
        },
        "id": "NwmTVPbSA7qM",
        "outputId": "32e367bf-75ff-4c1c-ecbc-ba966875856e"
      },
      "source": [
        "carname=\"Rolls Royce\"\r\n",
        "x=50\r\n",
        "print(carname,x)\r\n",
        "print(type(carname),type(x))"
      ],
      "execution_count": null,
      "outputs": [
        {
          "output_type": "stream",
          "text": [
            "Rolls Royce 50\n",
            "<class 'str'> <class 'int'>\n"
          ],
          "name": "stdout"
        }
      ]
    },
    {
      "cell_type": "markdown",
      "metadata": {
        "id": "Ihg88vc-CVVu"
      },
      "source": [
        "exercise 3"
      ]
    },
    {
      "cell_type": "code",
      "metadata": {
        "colab": {
          "base_uri": "https://localhost:8080/"
        },
        "id": "Bq8l4ohoCYdT",
        "outputId": "81735ff9-d9c9-4721-efed-b28aaeadcd41"
      },
      "source": [
        "x=5\r\n",
        "y=10\r\n",
        "print(x+y)"
      ],
      "execution_count": null,
      "outputs": [
        {
          "output_type": "stream",
          "text": [
            "15\n"
          ],
          "name": "stdout"
        }
      ]
    },
    {
      "cell_type": "markdown",
      "metadata": {
        "id": "9rp55AvHC22i"
      },
      "source": [
        "exercise 4"
      ]
    },
    {
      "cell_type": "code",
      "metadata": {
        "colab": {
          "base_uri": "https://localhost:8080/"
        },
        "id": "mPx6VCzlC4oH",
        "outputId": "fb66681a-1592-4a0d-fec2-760cbdde6ad8"
      },
      "source": [
        "x , y = 11,17\r\n",
        "z=x+y\r\n",
        "print(z)"
      ],
      "execution_count": null,
      "outputs": [
        {
          "output_type": "stream",
          "text": [
            "28\n"
          ],
          "name": "stdout"
        }
      ]
    },
    {
      "cell_type": "markdown",
      "metadata": {
        "id": "zLgTfXKvPFXI"
      },
      "source": [
        " **DATATYPES** **EXAMPLE** "
      ]
    },
    {
      "cell_type": "code",
      "metadata": {
        "id": "HkaCFHPrPF39"
      },
      "source": [
        "x1 = \"Hello World\"   \r\n",
        "x2 = 10\r\n",
        "x3=10.1\r\n",
        "x4=[\"apple\",\"banana\",\"cherry\"]\r\n",
        "x5=(\"apple\",\"banana\",\"cherry\")\r\n",
        "x6=range(6)\r\n",
        "x7={\"Name\" : \"Likhith\", \"Age\" : 36}\r\n",
        "x8={\"Apple\", \"Banana\", \"cherry\"}\r\n",
        "x9=True"
      ],
      "execution_count": null,
      "outputs": []
    },
    {
      "cell_type": "code",
      "metadata": {
        "colab": {
          "base_uri": "https://localhost:8080/"
        },
        "id": "vwHaghJNRWQk",
        "outputId": "e7c73640-1b65-4792-ce2a-206aaa9b7231"
      },
      "source": [
        "print(type(x1),type(x2),type(x3),type(x4),type(x5),type(x6),type(x7),type(x8),type(x9))\r\n",
        "print(x1,x2,x3,x4,x5,x6,x7,x8,x9)\r\n",
        "x=3+5j\r\n",
        "print(x,type(x))\r\n",
        "print(len(x1))"
      ],
      "execution_count": 55,
      "outputs": [
        {
          "output_type": "stream",
          "text": [
            "<class 'str'> <class 'int'> <class 'float'> <class 'list'> <class 'tuple'> <class 'range'> <class 'dict'> <class 'set'> <class 'bool'>\n",
            "Hello World 10 10.1 ['apple', 'banana', 'cherry'] ('apple', 'banana', 'cherry') range(0, 6) {'Name': 'Likhith', 'Age': 36} {'Banana', 'Apple', 'cherry'} True\n",
            "(3+5j) <class 'complex'>\n",
            "11\n"
          ],
          "name": "stdout"
        }
      ]
    },
    {
      "cell_type": "code",
      "metadata": {
        "colab": {
          "base_uri": "https://localhost:8080/"
        },
        "id": "Ri2AMpi9WrJW",
        "outputId": "fc5fcd9c-108f-4325-efcf-e8f8cf10d462"
      },
      "source": [
        "x={1,2,3,2}\r\n",
        "print(x)"
      ],
      "execution_count": 39,
      "outputs": [
        {
          "output_type": "stream",
          "text": [
            "{1, 2, 3}\n"
          ],
          "name": "stdout"
        }
      ]
    },
    {
      "cell_type": "code",
      "metadata": {
        "colab": {
          "base_uri": "https://localhost:8080/"
        },
        "id": "jIsF1xISYHvb",
        "outputId": "ffa82457-6019-46c7-f89b-081176f45e68"
      },
      "source": [
        "x=1\r\n",
        "y=2.8\r\n",
        "z=1j\r\n",
        "a=float(x)\r\n",
        "b=int(y)\r\n",
        "c=complex(y,x)\r\n",
        "print(a,b,c)"
      ],
      "execution_count": 44,
      "outputs": [
        {
          "output_type": "stream",
          "text": [
            "1.0 2 (2.8+1j)\n"
          ],
          "name": "stdout"
        }
      ]
    },
    {
      "cell_type": "markdown",
      "metadata": {
        "id": "khBmubW6cQqq"
      },
      "source": [
        "**assignment** **1**"
      ]
    },
    {
      "cell_type": "code",
      "metadata": {
        "colab": {
          "base_uri": "https://localhost:8080/"
        },
        "id": "TDzCWTwhaaKF",
        "outputId": "3665f3f0-78a8-4fb5-a5af-576f1292908f"
      },
      "source": [
        "x,y = 2,3\r\n",
        "a=str(x)\r\n",
        "b=str(y)\r\n",
        "c=a+b\r\n",
        "print(\"x + y =\",c)"
      ],
      "execution_count": 53,
      "outputs": [
        {
          "output_type": "stream",
          "text": [
            "x + y = 23\n"
          ],
          "name": "stdout"
        }
      ]
    },
    {
      "cell_type": "markdown",
      "metadata": {
        "id": "-QqOnsgtdUT5"
      },
      "source": [
        "**STRINGS**"
      ]
    },
    {
      "cell_type": "code",
      "metadata": {
        "colab": {
          "base_uri": "https://localhost:8080/"
        },
        "id": "V2NKjPgjdYF3",
        "outputId": "c19f6a27-b798-4436-d29c-1ca23ed00dfe"
      },
      "source": [
        "alvas=\"life in alvas is hell\"\r\n",
        "print(\"heaven\" in alvas)"
      ],
      "execution_count": 71,
      "outputs": [
        {
          "output_type": "stream",
          "text": [
            "False\n"
          ],
          "name": "stdout"
        }
      ]
    },
    {
      "cell_type": "markdown",
      "metadata": {
        "id": "Q8Qr7oVvgCyn"
      },
      "source": [
        "#**slicing**"
      ]
    },
    {
      "cell_type": "code",
      "metadata": {
        "colab": {
          "base_uri": "https://localhost:8080/"
        },
        "id": "_0se8GadgIcC",
        "outputId": "2f50baee-d81e-4d11-b104-8119193c166b"
      },
      "source": [
        "txt=\"life is costlier than u think\"\r\n",
        "print(txt[0:4])\r\n",
        "print(txt[ :8])\r\n",
        "print(txt[8:])\r\n",
        "print(txt[-5:])\r\n",
        "print(txt.upper())"
      ],
      "execution_count": 67,
      "outputs": [
        {
          "output_type": "stream",
          "text": [
            "life\n",
            "life is \n",
            "costlier than u think\n",
            "think\n",
            "LIFE IS COSTLIER THAN U THINK\n"
          ],
          "name": "stdout"
        }
      ]
    },
    {
      "cell_type": "markdown",
      "metadata": {
        "id": "LW-Cz5gQi7Yg"
      },
      "source": [
        "#**format in python**"
      ]
    },
    {
      "cell_type": "code",
      "metadata": {
        "colab": {
          "base_uri": "https://localhost:8080/"
        },
        "id": "lZj9b-Qli_i8",
        "outputId": "03a8c06e-ced8-4090-ed1f-496bbef2c7e5"
      },
      "source": [
        "age = 20000\r\n",
        "txt=\"my name is Sharu Cherry, and i am {}\"\r\n",
        "print(txt.format(age))"
      ],
      "execution_count": 74,
      "outputs": [
        {
          "output_type": "stream",
          "text": [
            "my name is Sharu Cherry, and i am 20000\n"
          ],
          "name": "stdout"
        }
      ]
    },
    {
      "cell_type": "markdown",
      "metadata": {
        "id": "UFC15wTwkf3Z"
      },
      "source": [
        "inbuilt string functions"
      ]
    },
    {
      "cell_type": "code",
      "metadata": {
        "colab": {
          "base_uri": "https://localhost:8080/"
        },
        "id": "aIhajbNukq1l",
        "outputId": "acb373d4-4f6d-40e7-a303-9e8a720a187a"
      },
      "source": [
        "txt=\"LIKHITH\"\r\n",
        "print(txt.capitalize())\r\n",
        "print(txt.upper())\r\n",
        "print(txt.isupper())\r\n",
        "print(txt.isalpha())\r\n",
        "print(txt.isdigit())"
      ],
      "execution_count": 83,
      "outputs": [
        {
          "output_type": "stream",
          "text": [
            "Likhith\n",
            "LIKHITH\n",
            "True\n",
            "True\n",
            "False\n"
          ],
          "name": "stdout"
        }
      ]
    },
    {
      "cell_type": "markdown",
      "metadata": {
        "id": "fAkNQ1cC-D-B"
      },
      "source": [
        "#**ASSIGNMENT**#"
      ]
    },
    {
      "cell_type": "code",
      "metadata": {
        "colab": {
          "base_uri": "https://localhost:8080/"
        },
        "id": "FzLHx4Bl-LEf",
        "outputId": "749626c7-5d73-44ef-f15c-33a1d747edb2"
      },
      "source": [
        "x=int(input(\"INPUT THE VALUE FOR X\"))\r\n",
        "y=int(input(\"INPUT THE VALUE FOR Y\"))\r\n",
        "print(x+y)\r\n",
        "print(x-y)\r\n",
        "print(x*y)\r\n",
        "print(x/y)\r\n",
        "print(x%y)"
      ],
      "execution_count": 4,
      "outputs": [
        {
          "output_type": "stream",
          "text": [
            "INPUT THE VALUE FOR X2\n",
            "INPUT THE VALUE FOR Y3\n",
            "5\n",
            "-1\n",
            "6\n",
            "0.6666666666666666\n",
            "2\n"
          ],
          "name": "stdout"
        }
      ]
    },
    {
      "cell_type": "markdown",
      "metadata": {
        "id": "daIEySlpET2o"
      },
      "source": [
        "#**PYTHON LIST**"
      ]
    },
    {
      "cell_type": "code",
      "metadata": {
        "colab": {
          "base_uri": "https://localhost:8080/"
        },
        "id": "_mGZjAkEEZL5",
        "outputId": "0d623a55-73d9-431c-daa9-568031e1b915"
      },
      "source": [
        "thislist= list((\"abhishek\", \"vishak\", \"jayraj\"))\r\n",
        "print(thislist)\r\n",
        "print(len(thislist))"
      ],
      "execution_count": 7,
      "outputs": [
        {
          "output_type": "stream",
          "text": [
            "['abhishek', 'vishak', 'jayraj']\n",
            "3\n"
          ],
          "name": "stdout"
        }
      ]
    }
  ]
}