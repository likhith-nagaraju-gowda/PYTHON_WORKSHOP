{
  "nbformat": 4,
  "nbformat_minor": 0,
  "metadata": {
    "colab": {
      "name": "my code world2.ipynb",
      "provenance": [],
      "collapsed_sections": [],
      "authorship_tag": "ABX9TyMwpwYXt7U5boifNyrU+NrZ",
      "include_colab_link": true
    },
    "kernelspec": {
      "name": "python3",
      "display_name": "Python 3"
    }
  },
  "cells": [
    {
      "cell_type": "markdown",
      "metadata": {
        "id": "view-in-github",
        "colab_type": "text"
      },
      "source": [
        "<a href=\"https://colab.research.google.com/github/likhith-nagaraju-gowda/PYTHON_WORKSHOP/blob/main/my_code_world2.ipynb\" target=\"_parent\"><img src=\"https://colab.research.google.com/assets/colab-badge.svg\" alt=\"Open In Colab\"/></a>"
      ]
    },
    {
      "cell_type": "markdown",
      "metadata": {
        "id": "Gpr4WBh2CQ7P"
      },
      "source": [
        "#***SETS***"
      ]
    },
    {
      "cell_type": "code",
      "metadata": {
        "colab": {
          "base_uri": "https://localhost:8080/"
        },
        "id": "UAVPSBE0_XXi",
        "outputId": "c718ffac-2859-44a6-c1f6-7a286c688686"
      },
      "source": [
        "n={1,2,3,4}\r\n",
        "print(n)\r\n",
        "a=set((\"ece\",\"cse\",\"ise\"))\r\n",
        "print(a)\r\n",
        "a.add(\"mech\")\r\n",
        "print(a)\r\n",
        "print(len(a))\r\n",
        "a.add(\"cse\")\r\n",
        "print(len(a))\r\n",
        "print(a)\r\n",
        "a.remove(\"mech\")\r\n",
        "print(a)\r\n",
        "a.discard(\"ise\")\r\n",
        "print(a)\r\n",
        "a.pop()\r\n",
        "print(a)"
      ],
      "execution_count": null,
      "outputs": [
        {
          "output_type": "stream",
          "text": [
            "{1, 2, 3, 4}\n",
            "{'ece', 'ise', 'cse'}\n",
            "{'ece', 'ise', 'cse', 'mech'}\n",
            "4\n",
            "4\n",
            "{'ece', 'ise', 'cse', 'mech'}\n",
            "{'ece', 'ise', 'cse'}\n",
            "{'ece', 'cse'}\n",
            "{'cse'}\n"
          ],
          "name": "stdout"
        }
      ]
    },
    {
      "cell_type": "markdown",
      "metadata": {
        "id": "roLJziw8CKif"
      },
      "source": [
        "#***CLEAR METHOD***"
      ]
    },
    {
      "cell_type": "code",
      "metadata": {
        "colab": {
          "base_uri": "https://localhost:8080/"
        },
        "id": "fcWOF0SrB6Dl",
        "outputId": "41a94b8e-7cae-49cb-898d-f446daa7880f"
      },
      "source": [
        "a=set((\"ece\",\"cse\",\"ise\"))\r\n",
        "print(a)\r\n",
        "a.clear()\r\n",
        "print(a)\r\n",
        "print(len(a))"
      ],
      "execution_count": null,
      "outputs": [
        {
          "output_type": "stream",
          "text": [
            "{'ece', 'ise', 'cse'}\n",
            "set()\n",
            "0\n"
          ],
          "name": "stdout"
        }
      ]
    },
    {
      "cell_type": "markdown",
      "metadata": {
        "id": "IFhSXdslCcDj"
      },
      "source": [
        "#***DEL METHOD***"
      ]
    },
    {
      "cell_type": "code",
      "metadata": {
        "colab": {
          "base_uri": "https://localhost:8080/",
          "height": 212
        },
        "id": "NLer1M8nCfsY",
        "outputId": "487488ef-d66e-4033-ff3f-e2a8b9897d5f"
      },
      "source": [
        "a=set((\"ece\",\"cse\",\"ise\"))\r\n",
        "print(a)\r\n",
        "del a\r\n",
        "print(a)"
      ],
      "execution_count": null,
      "outputs": [
        {
          "output_type": "stream",
          "text": [
            "{'ece', 'ise', 'cse'}\n"
          ],
          "name": "stdout"
        },
        {
          "output_type": "error",
          "ename": "NameError",
          "evalue": "ignored",
          "traceback": [
            "\u001b[0;31m---------------------------------------------------------------------------\u001b[0m",
            "\u001b[0;31mNameError\u001b[0m                                 Traceback (most recent call last)",
            "\u001b[0;32m<ipython-input-12-45ded6b933ae>\u001b[0m in \u001b[0;36m<module>\u001b[0;34m()\u001b[0m\n\u001b[1;32m      2\u001b[0m \u001b[0mprint\u001b[0m\u001b[0;34m(\u001b[0m\u001b[0ma\u001b[0m\u001b[0;34m)\u001b[0m\u001b[0;34m\u001b[0m\u001b[0;34m\u001b[0m\u001b[0m\n\u001b[1;32m      3\u001b[0m \u001b[0;32mdel\u001b[0m \u001b[0ma\u001b[0m\u001b[0;34m\u001b[0m\u001b[0;34m\u001b[0m\u001b[0m\n\u001b[0;32m----> 4\u001b[0;31m \u001b[0mprint\u001b[0m\u001b[0;34m(\u001b[0m\u001b[0ma\u001b[0m\u001b[0;34m)\u001b[0m\u001b[0;34m\u001b[0m\u001b[0;34m\u001b[0m\u001b[0m\n\u001b[0m",
            "\u001b[0;31mNameError\u001b[0m: name 'a' is not defined"
          ]
        }
      ]
    },
    {
      "cell_type": "markdown",
      "metadata": {
        "id": "RONfMbpwCwVW"
      },
      "source": [
        "#***UNION METHOD***"
      ]
    },
    {
      "cell_type": "code",
      "metadata": {
        "colab": {
          "base_uri": "https://localhost:8080/"
        },
        "id": "bNxHWEiJCz_g",
        "outputId": "cc28ddce-6fca-4c7e-ccb8-68e044ee1c58"
      },
      "source": [
        "set1={\"a\",\"b\",\"c\"}\r\n",
        "set2={1,2,3}\r\n",
        "set3=set1.union(set2)\r\n",
        "print(set1,set2,set3)"
      ],
      "execution_count": null,
      "outputs": [
        {
          "output_type": "stream",
          "text": [
            "{'a', 'c', 'b'} {1, 2, 3} {'c', 1, 2, 3, 'b', 'a'}\n"
          ],
          "name": "stdout"
        }
      ]
    },
    {
      "cell_type": "markdown",
      "metadata": {
        "id": "iF_VQKazDSef"
      },
      "source": [
        "#***UDATE METHOD***"
      ]
    },
    {
      "cell_type": "code",
      "metadata": {
        "colab": {
          "base_uri": "https://localhost:8080/"
        },
        "id": "WWvnmgRkDWJJ",
        "outputId": "e087994b-c5cf-418d-af16-b2cf9d43695a"
      },
      "source": [
        "set1={\"a\",\"b\",\"c\"}\r\n",
        "set2={1,2,3,\"a\"}\r\n",
        "set1.update(set2)\r\n",
        "print(set1)"
      ],
      "execution_count": null,
      "outputs": [
        {
          "output_type": "stream",
          "text": [
            "{'c', 1, 2, 3, 'b', 'a'}\n"
          ],
          "name": "stdout"
        }
      ]
    },
    {
      "cell_type": "markdown",
      "metadata": {
        "id": "U4i-__PiD4D3"
      },
      "source": [
        "#***ADDING LIST TO A SET***"
      ]
    },
    {
      "cell_type": "code",
      "metadata": {
        "colab": {
          "base_uri": "https://localhost:8080/"
        },
        "id": "XcFdrgHGD7qZ",
        "outputId": "be0f1613-f72d-447d-d080-26123737d506"
      },
      "source": [
        "set1={\"a\",\"b\",\"c\"}\r\n",
        "set2=[\"a\",\"d\",\"e\"]\r\n",
        "set1.update(set2)\r\n",
        "print(set1)\r\n",
        "print(type(set1))"
      ],
      "execution_count": null,
      "outputs": [
        {
          "output_type": "stream",
          "text": [
            "{'c', 'd', 'e', 'b', 'a'}\n",
            "<class 'set'>\n"
          ],
          "name": "stdout"
        }
      ]
    },
    {
      "cell_type": "markdown",
      "metadata": {
        "id": "IxL5ZOACFEQf"
      },
      "source": [
        "#***CONVERTING SET TO LIST AND VICE-VERSA***"
      ]
    },
    {
      "cell_type": "code",
      "metadata": {
        "colab": {
          "base_uri": "https://localhost:8080/"
        },
        "id": "Ag5JACU4FNwb",
        "outputId": "e412d8c3-0579-410e-8dc7-09dafa706cf4"
      },
      "source": [
        "set2=[\"a\",\"d\",\"e\"]\r\n",
        "l=list(set2)\r\n",
        "newset=set(l)\r\n",
        "print(type(l))\r\n",
        "print(type(newset))"
      ],
      "execution_count": null,
      "outputs": [
        {
          "output_type": "stream",
          "text": [
            "<class 'list'>\n",
            "<class 'set'>\n"
          ],
          "name": "stdout"
        }
      ]
    },
    {
      "cell_type": "markdown",
      "metadata": {
        "id": "T1Kwz0eaFosu"
      },
      "source": [
        "#***add method***"
      ]
    },
    {
      "cell_type": "code",
      "metadata": {
        "colab": {
          "base_uri": "https://localhost:8080/"
        },
        "id": "e77VNcvWFt2c",
        "outputId": "4275fce8-f466-478a-9fb6-f39d5e65735c"
      },
      "source": [
        "fruits={\"apple\",\"banana\",\"cherry\"}\r\n",
        "print(fruits)\r\n",
        "fruits.add(\"orange\")\r\n",
        "print(fruits)\r\n",
        "more_fruits=[\"orange\",\"mango\",\"grapes\"]\r\n",
        "fruits.update(more_fruits)\r\n",
        "print(fruits)"
      ],
      "execution_count": null,
      "outputs": [
        {
          "output_type": "stream",
          "text": [
            "{'cherry', 'apple', 'banana'}\n",
            "{'orange', 'cherry', 'apple', 'banana'}\n",
            "{'orange', 'mango', 'grapes', 'cherry', 'apple', 'banana'}\n"
          ],
          "name": "stdout"
        }
      ]
    },
    {
      "cell_type": "code",
      "metadata": {
        "colab": {
          "base_uri": "https://localhost:8080/"
        },
        "id": "hYdF3-j7GnNb",
        "outputId": "2e13fc2f-23f9-4b69-d5f0-2a3e8ec426fb"
      },
      "source": [
        "fruits={\"apple\",\"banana\",\"cherry\"}\r\n",
        "print(fruits)\r\n",
        "fruits.add(\"orange\")\r\n",
        "print(fruits)\r\n",
        "more_fruits=[\"orange\",\"mango\",\"grapes\"]\r\n",
        "s=fruits.union(more_fruits)\r\n",
        "print(s)\r\n",
        "fruits.discard(\"banana\")\r\n",
        "print(fruits)"
      ],
      "execution_count": null,
      "outputs": [
        {
          "output_type": "stream",
          "text": [
            "{'cherry', 'apple', 'banana'}\n",
            "{'orange', 'cherry', 'apple', 'banana'}\n",
            "{'orange', 'mango', 'grapes', 'cherry', 'apple', 'banana'}\n",
            "{'orange', 'cherry', 'apple'}\n"
          ],
          "name": "stdout"
        }
      ]
    },
    {
      "cell_type": "markdown",
      "metadata": {
        "id": "ddWz0HyDHkFP"
      },
      "source": [
        "#***counting number of unique elements***"
      ]
    },
    {
      "cell_type": "code",
      "metadata": {
        "colab": {
          "base_uri": "https://localhost:8080/"
        },
        "id": "sCuu_CIqHps2",
        "outputId": "7efb3c5d-681e-4f20-a513-fea017b06fb0"
      },
      "source": [
        "l=[1,2,3,1,2]\r\n",
        "\r\n",
        "print(len(set(l)))"
      ],
      "execution_count": null,
      "outputs": [
        {
          "output_type": "stream",
          "text": [
            "3\n"
          ],
          "name": "stdout"
        }
      ]
    },
    {
      "cell_type": "markdown",
      "metadata": {
        "id": "VrzTi40HI5da"
      },
      "source": [
        "#***DICTIONARIES***"
      ]
    },
    {
      "cell_type": "code",
      "metadata": {
        "colab": {
          "base_uri": "https://localhost:8080/"
        },
        "id": "yA-GCR24I8tg",
        "outputId": "110de2eb-c82e-4204-a42e-8ec340f3c82a"
      },
      "source": [
        "today={\"date\":\"07/01/2021\",\"day\":\"thursday\",\"month\":\"JAN\",\"month\":\"FEB\"}\r\n",
        "print(today)\r\n",
        "today[\"day\"]=\"saturday\"\r\n",
        "print(len(today))\r\n",
        "y=today[\"day\"]\r\n",
        "print(y)\r\n",
        "x=today.keys()\r\n",
        "print(x)\r\n",
        "x=today.values()\r\n",
        "print(x)\r\n",
        "today[\"weather\"]=\"cloudy\"\r\n",
        "print(today)\r\n",
        "today.pop(\"weather\")\r\n",
        "print(today)"
      ],
      "execution_count": null,
      "outputs": [
        {
          "output_type": "stream",
          "text": [
            "{'date': '07/01/2021', 'day': 'thursday', 'month': 'FEB'}\n",
            "3\n",
            "saturday\n",
            "dict_keys(['date', 'day', 'month'])\n",
            "dict_values(['07/01/2021', 'saturday', 'FEB'])\n",
            "{'date': '07/01/2021', 'day': 'saturday', 'month': 'FEB', 'weather': 'cloudy'}\n",
            "{'date': '07/01/2021', 'day': 'saturday', 'month': 'FEB'}\n"
          ],
          "name": "stdout"
        }
      ]
    },
    {
      "cell_type": "code",
      "metadata": {
        "colab": {
          "base_uri": "https://localhost:8080/"
        },
        "id": "QFwhHu7DQpAy",
        "outputId": "b87584ac-f839-4fee-c48d-db40ca973028"
      },
      "source": [
        "car={\"brand\":\"ford\",\"model\":\"Bugatti\",\"year\":1964}\r\n",
        "x=car[\"model\"]\r\n",
        "print(x)\r\n",
        "car[\"year\"]=2020\r\n",
        "print(car)\r\n",
        "car[\"color\"]=\"red\"\r\n",
        "print(car)\r\n",
        "car.pop(\"model\")\r\n",
        "print(car)"
      ],
      "execution_count": null,
      "outputs": [
        {
          "output_type": "stream",
          "text": [
            "Bugatti\n",
            "{'brand': 'ford', 'model': 'Bugatti', 'year': 2020}\n",
            "{'brand': 'ford', 'model': 'Bugatti', 'year': 2020, 'color': 'red'}\n",
            "{'brand': 'ford', 'year': 2020, 'color': 'red'}\n"
          ],
          "name": "stdout"
        }
      ]
    },
    {
      "cell_type": "markdown",
      "metadata": {
        "id": "-bNwR9eEYyYX"
      },
      "source": [
        "#***conditional statements***"
      ]
    },
    {
      "cell_type": "code",
      "metadata": {
        "colab": {
          "base_uri": "https://localhost:8080/"
        },
        "id": "jzgWJc3iY3tf",
        "outputId": "dc824d44-31a0-430e-ef48-68db8ac0dd0d"
      },
      "source": [
        "# use tab space to prevent intendation error\r\n",
        "a=13\r\n",
        "b=12\r\n",
        "if b>a:\r\n",
        "   print(\"b>a\")\r\n",
        "elif  a==b:\r\n",
        "    print(\"a=b\")\r\n",
        "else:\r\n",
        "    print(\"a!=b\")"
      ],
      "execution_count": 64,
      "outputs": [
        {
          "output_type": "stream",
          "text": [
            "a!=b\n"
          ],
          "name": "stdout"
        }
      ]
    },
    {
      "cell_type": "markdown",
      "metadata": {
        "id": "ZVzhFChQbTOx"
      },
      "source": [
        "#***assignment***"
      ]
    },
    {
      "cell_type": "code",
      "metadata": {
        "colab": {
          "base_uri": "https://localhost:8080/"
        },
        "id": "uivNjhfabWtl",
        "outputId": "c8e6ebd4-52eb-40f1-a4cb-e3e93ffb5969"
      },
      "source": [
        "x=input(\"enter a value\")\r\n",
        "y=input(\"enter a value\")\r\n",
        "z=input(\"enter a value\")\r\n",
        "if  (x>y and x>z):\r\n",
        "  print(\"x is greater\")\r\n",
        "elif  (y>z and y>x):\r\n",
        "    print(\"y is greater\")\r\n",
        "elif  (z>y and z>x):   \r\n",
        "    print(\"z is greater \")\r\n",
        "elif (x==y and x>z):\r\n",
        "  print(\"x and y are equal and greater than z\")\r\n",
        "elif (x==y and x<z):\r\n",
        "  print(\"x and y are equal and lesser than z\")\r\n",
        "elif (x==y and x==z):\r\n",
        "  print(\"x = y = z\")"
      ],
      "execution_count": 78,
      "outputs": [
        {
          "output_type": "stream",
          "text": [
            "enter a value7\n",
            "enter a value8\n",
            "enter a value8\n"
          ],
          "name": "stdout"
        }
      ]
    },
    {
      "cell_type": "markdown",
      "metadata": {
        "id": "0qB7RDbBfm0h"
      },
      "source": [
        "#***while***"
      ]
    },
    {
      "cell_type": "code",
      "metadata": {
        "colab": {
          "base_uri": "https://localhost:8080/"
        },
        "id": "zmbsTacofpoT",
        "outputId": "052a0d25-e3ff-4515-8891-3a4eb9d57985"
      },
      "source": [
        "i=0\r\n",
        "while i<6:\r\n",
        "  print(i)\r\n",
        "  i+=1"
      ],
      "execution_count": 79,
      "outputs": [
        {
          "output_type": "stream",
          "text": [
            "0\n",
            "1\n",
            "2\n",
            "3\n",
            "4\n",
            "5\n"
          ],
          "name": "stdout"
        }
      ]
    },
    {
      "cell_type": "markdown",
      "metadata": {
        "id": "4zQ1To_CgZL8"
      },
      "source": [
        "#***continue statement***"
      ]
    },
    {
      "cell_type": "code",
      "metadata": {
        "colab": {
          "base_uri": "https://localhost:8080/"
        },
        "id": "IzyYUboOghwJ",
        "outputId": "e012834e-4ba4-4101-a551-9103ebb89ccc"
      },
      "source": [
        "i=0\r\n",
        "while i < 6:\r\n",
        "  i+=1\r\n",
        "  if  i==3:\r\n",
        "   continue\r\n",
        "  print(i)"
      ],
      "execution_count": 91,
      "outputs": [
        {
          "output_type": "stream",
          "text": [
            "1\n",
            "2\n",
            "4\n",
            "5\n",
            "6\n"
          ],
          "name": "stdout"
        }
      ]
    },
    {
      "cell_type": "markdown",
      "metadata": {
        "id": "Ecjqs_LShpyC"
      },
      "source": [
        "assignment"
      ]
    },
    {
      "cell_type": "code",
      "metadata": {
        "colab": {
          "base_uri": "https://localhost:8080/"
        },
        "id": "eQ-n_hwohrix",
        "outputId": "fa68505b-fd33-4d65-a2f9-791d5f609935"
      },
      "source": [
        "n=int(input(\"enter the value:- \"))\r\n",
        "i=0\r\n",
        "sum=0\r\n",
        "while i<n:\r\n",
        "  i+=1\r\n",
        "  sum=sum+i\r\n",
        "  print(i)\r\n",
        "print(sum)"
      ],
      "execution_count": 109,
      "outputs": [
        {
          "output_type": "stream",
          "text": [
            "enter the value:- 6\n",
            "1\n",
            "2\n",
            "3\n",
            "4\n",
            "5\n",
            "6\n",
            "21\n"
          ],
          "name": "stdout"
        }
      ]
    },
    {
      "cell_type": "markdown",
      "metadata": {
        "id": "BXOEKKbRloJ-"
      },
      "source": [
        "#***FOR loop***"
      ]
    },
    {
      "cell_type": "code",
      "metadata": {
        "colab": {
          "base_uri": "https://localhost:8080/"
        },
        "id": "S_n_C96ulr9S",
        "outputId": "e6dfd5e1-0516-4fb8-d33b-6624606da32c"
      },
      "source": [
        "fruits={\"apple\",\"banana\",\"cherry\"}\r\n",
        "for x in  fruits:\r\n",
        "  if  x == \"banana\":\r\n",
        "    continue\r\n",
        "  print(x)\r\n",
        "  \r\n",
        "for i in \"LIKHITH\":\r\n",
        "  print(i)\r\n",
        "for y in range(7,77,7):\r\n",
        "  print(y)"
      ],
      "execution_count": 119,
      "outputs": [
        {
          "output_type": "stream",
          "text": [
            "cherry\n",
            "apple\n",
            "L\n",
            "I\n",
            "K\n",
            "H\n",
            "I\n",
            "T\n",
            "H\n",
            "7\n",
            "14\n",
            "21\n",
            "28\n",
            "35\n",
            "42\n",
            "49\n",
            "56\n",
            "63\n",
            "70\n"
          ],
          "name": "stdout"
        }
      ]
    },
    {
      "cell_type": "markdown",
      "metadata": {
        "id": "UpL3t4X9ntOC"
      },
      "source": [
        "#***nested loops***"
      ]
    },
    {
      "cell_type": "code",
      "metadata": {
        "colab": {
          "base_uri": "https://localhost:8080/"
        },
        "id": "lvP_bGK8n6lb",
        "outputId": "55b1d25d-ae36-402d-fcc7-d78cba006e31"
      },
      "source": [
        "a=[\"red\",\"blue\",\"green\"]\r\n",
        "fruits=[\"apple\",\"banana\",\"cherry\"]\r\n",
        "for a in fruits:\r\n",
        "  for x in fruits:\r\n",
        "    print(a,x)"
      ],
      "execution_count": 123,
      "outputs": [
        {
          "output_type": "stream",
          "text": [
            "apple apple\n",
            "apple banana\n",
            "apple cherry\n",
            "banana apple\n",
            "banana banana\n",
            "banana cherry\n",
            "cherry apple\n",
            "cherry banana\n",
            "cherry cherry\n"
          ],
          "name": "stdout"
        }
      ]
    },
    {
      "cell_type": "markdown",
      "metadata": {
        "id": "wEDlNKSKpctk"
      },
      "source": [
        "#***assignment***"
      ]
    },
    {
      "cell_type": "code",
      "metadata": {
        "colab": {
          "base_uri": "https://localhost:8080/"
        },
        "id": "XY3d1jAWpf_4",
        "outputId": "117706b0-8066-41b5-99cc-2e0c2be0189d"
      },
      "source": [
        "x=int(input(\"enter a value\"))\r\n",
        "i=0\r\n",
        "evens=[]\r\n",
        "odds=[]\r\n",
        "for i in range(x):\r\n",
        "  if  i%2 == 0:\r\n",
        "    evens.append(i)\r\n",
        "  else:\r\n",
        "   odds.append(i)\r\n",
        "print(evens)\r\n",
        "print(odds)"
      ],
      "execution_count": 141,
      "outputs": [
        {
          "output_type": "stream",
          "text": [
            "enter a value10\n",
            "[0, 2, 4, 6, 8]\n",
            "[1, 3, 5, 7, 9]\n"
          ],
          "name": "stdout"
        }
      ]
    },
    {
      "cell_type": "markdown",
      "metadata": {
        "id": "GbBp4hsbD92N"
      },
      "source": [
        "old way"
      ]
    },
    {
      "cell_type": "code",
      "metadata": {
        "colab": {
          "base_uri": "https://localhost:8080/"
        },
        "id": "yhKzGVJHA4u6",
        "outputId": "98bbba04-e1fe-46a2-b38d-3aa8318124d9"
      },
      "source": [
        "i=0\r\n",
        "lists=[]\r\n",
        "for i in range(11):\r\n",
        "  if i%2 == 0:\r\n",
        "      lists.append(i)\r\n",
        "print(lists)"
      ],
      "execution_count": 151,
      "outputs": [
        {
          "output_type": "stream",
          "text": [
            "[0, 2, 4, 6, 8, 10]\n"
          ],
          "name": "stdout"
        }
      ]
    },
    {
      "cell_type": "markdown",
      "metadata": {
        "id": "xG3mWxXVD8y1"
      },
      "source": [
        "new way"
      ]
    },
    {
      "cell_type": "code",
      "metadata": {
        "colab": {
          "base_uri": "https://localhost:8080/"
        },
        "id": "ot5GKtHMEA1Y",
        "outputId": "0d83956b-02d8-429b-ebb5-a31154973494"
      },
      "source": [
        "lst=[i for i in range(11)]\r\n",
        "print(lst)"
      ],
      "execution_count": 152,
      "outputs": [
        {
          "output_type": "stream",
          "text": [
            "[0, 1, 2, 3, 4, 5, 6, 7, 8, 9, 10]\n"
          ],
          "name": "stdout"
        }
      ]
    },
    {
      "cell_type": "code",
      "metadata": {
        "colab": {
          "base_uri": "https://localhost:8080/"
        },
        "id": "AoyEkfPrEPg8",
        "outputId": "c95033a0-abba-44a2-f141-17de9bff0972"
      },
      "source": [
        "evenlist = [i for i in range(21) if i%2==0]\r\n",
        "print(evenlist)"
      ],
      "execution_count": 153,
      "outputs": [
        {
          "output_type": "stream",
          "text": [
            "[0, 2, 4, 6, 8, 10, 12, 14, 16, 18, 20]\n"
          ],
          "name": "stdout"
        }
      ]
    },
    {
      "cell_type": "code",
      "metadata": {
        "id": "GPBBijxsE5gP"
      },
      "source": [
        "oddlist = [i*i for i in range(21) if i%2==1]\r\n",
        "print(oddlist)"
      ],
      "execution_count": null,
      "outputs": []
    },
    {
      "cell_type": "code",
      "metadata": {
        "colab": {
          "base_uri": "https://localhost:8080/"
        },
        "id": "yg87cAaoF6H8",
        "outputId": "00b54aa5-0418-4be0-eec3-6d9a6953c11d"
      },
      "source": [
        "print(all(oddlist))\r\n",
        "print(\"gulbi bosudi\")\r\n",
        "print(\"sharath manchivaadu\")"
      ],
      "execution_count": 164,
      "outputs": [
        {
          "output_type": "stream",
          "text": [
            "True\n",
            "gulbi bosudi\n",
            "sharath manchivaadu\n"
          ],
          "name": "stdout"
        }
      ]
    },
    {
      "cell_type": "code",
      "metadata": {
        "colab": {
          "base_uri": "https://localhost:8080/"
        },
        "id": "Ojlh6Y8mHhFp",
        "outputId": "cbca3d58-f7eb-4d09-cf1c-a6ac92923978"
      },
      "source": [
        "lst=[]\r\n",
        "for i in range(2,21):\r\n",
        "  isprime=True\r\n",
        "  for j in range(2,i):\r\n",
        "      if  i%j == 0:\r\n",
        "        isprime=False\r\n",
        "  if isprime:\r\n",
        "        lst.append(i)\r\n",
        "print(lst)"
      ],
      "execution_count": 188,
      "outputs": [
        {
          "output_type": "stream",
          "text": [
            "[2, 3, 5, 7, 11, 13, 17, 19]\n"
          ],
          "name": "stdout"
        }
      ]
    },
    {
      "cell_type": "markdown",
      "metadata": {
        "id": "ihpGrJdGLPT9"
      },
      "source": [
        "one line code for above code"
      ]
    },
    {
      "cell_type": "code",
      "metadata": {
        "colab": {
          "base_uri": "https://localhost:8080/"
        },
        "id": "nuUvXMuNLO8Y",
        "outputId": "e4fb7952-dea6-4cab-b07a-02ccd3778a6e"
      },
      "source": [
        "primelist = [i for i in range(2,10000) if all(i%j!=0 for j in range(2,i))]\r\n",
        "print(primelist)"
      ],
      "execution_count": 191,
      "outputs": [
        {
          "output_type": "stream",
          "text": [
            "[2, 3, 5, 7, 11, 13, 17, 19, 23, 29, 31, 37, 41, 43, 47, 53, 59, 61, 67, 71, 73, 79, 83, 89, 97, 101, 103, 107, 109, 113, 127, 131, 137, 139, 149, 151, 157, 163, 167, 173, 179, 181, 191, 193, 197, 199, 211, 223, 227, 229, 233, 239, 241, 251, 257, 263, 269, 271, 277, 281, 283, 293, 307, 311, 313, 317, 331, 337, 347, 349, 353, 359, 367, 373, 379, 383, 389, 397, 401, 409, 419, 421, 431, 433, 439, 443, 449, 457, 461, 463, 467, 479, 487, 491, 499, 503, 509, 521, 523, 541, 547, 557, 563, 569, 571, 577, 587, 593, 599, 601, 607, 613, 617, 619, 631, 641, 643, 647, 653, 659, 661, 673, 677, 683, 691, 701, 709, 719, 727, 733, 739, 743, 751, 757, 761, 769, 773, 787, 797, 809, 811, 821, 823, 827, 829, 839, 853, 857, 859, 863, 877, 881, 883, 887, 907, 911, 919, 929, 937, 941, 947, 953, 967, 971, 977, 983, 991, 997, 1009, 1013, 1019, 1021, 1031, 1033, 1039, 1049, 1051, 1061, 1063, 1069, 1087, 1091, 1093, 1097, 1103, 1109, 1117, 1123, 1129, 1151, 1153, 1163, 1171, 1181, 1187, 1193, 1201, 1213, 1217, 1223, 1229, 1231, 1237, 1249, 1259, 1277, 1279, 1283, 1289, 1291, 1297, 1301, 1303, 1307, 1319, 1321, 1327, 1361, 1367, 1373, 1381, 1399, 1409, 1423, 1427, 1429, 1433, 1439, 1447, 1451, 1453, 1459, 1471, 1481, 1483, 1487, 1489, 1493, 1499, 1511, 1523, 1531, 1543, 1549, 1553, 1559, 1567, 1571, 1579, 1583, 1597, 1601, 1607, 1609, 1613, 1619, 1621, 1627, 1637, 1657, 1663, 1667, 1669, 1693, 1697, 1699, 1709, 1721, 1723, 1733, 1741, 1747, 1753, 1759, 1777, 1783, 1787, 1789, 1801, 1811, 1823, 1831, 1847, 1861, 1867, 1871, 1873, 1877, 1879, 1889, 1901, 1907, 1913, 1931, 1933, 1949, 1951, 1973, 1979, 1987, 1993, 1997, 1999, 2003, 2011, 2017, 2027, 2029, 2039, 2053, 2063, 2069, 2081, 2083, 2087, 2089, 2099, 2111, 2113, 2129, 2131, 2137, 2141, 2143, 2153, 2161, 2179, 2203, 2207, 2213, 2221, 2237, 2239, 2243, 2251, 2267, 2269, 2273, 2281, 2287, 2293, 2297, 2309, 2311, 2333, 2339, 2341, 2347, 2351, 2357, 2371, 2377, 2381, 2383, 2389, 2393, 2399, 2411, 2417, 2423, 2437, 2441, 2447, 2459, 2467, 2473, 2477, 2503, 2521, 2531, 2539, 2543, 2549, 2551, 2557, 2579, 2591, 2593, 2609, 2617, 2621, 2633, 2647, 2657, 2659, 2663, 2671, 2677, 2683, 2687, 2689, 2693, 2699, 2707, 2711, 2713, 2719, 2729, 2731, 2741, 2749, 2753, 2767, 2777, 2789, 2791, 2797, 2801, 2803, 2819, 2833, 2837, 2843, 2851, 2857, 2861, 2879, 2887, 2897, 2903, 2909, 2917, 2927, 2939, 2953, 2957, 2963, 2969, 2971, 2999, 3001, 3011, 3019, 3023, 3037, 3041, 3049, 3061, 3067, 3079, 3083, 3089, 3109, 3119, 3121, 3137, 3163, 3167, 3169, 3181, 3187, 3191, 3203, 3209, 3217, 3221, 3229, 3251, 3253, 3257, 3259, 3271, 3299, 3301, 3307, 3313, 3319, 3323, 3329, 3331, 3343, 3347, 3359, 3361, 3371, 3373, 3389, 3391, 3407, 3413, 3433, 3449, 3457, 3461, 3463, 3467, 3469, 3491, 3499, 3511, 3517, 3527, 3529, 3533, 3539, 3541, 3547, 3557, 3559, 3571, 3581, 3583, 3593, 3607, 3613, 3617, 3623, 3631, 3637, 3643, 3659, 3671, 3673, 3677, 3691, 3697, 3701, 3709, 3719, 3727, 3733, 3739, 3761, 3767, 3769, 3779, 3793, 3797, 3803, 3821, 3823, 3833, 3847, 3851, 3853, 3863, 3877, 3881, 3889, 3907, 3911, 3917, 3919, 3923, 3929, 3931, 3943, 3947, 3967, 3989, 4001, 4003, 4007, 4013, 4019, 4021, 4027, 4049, 4051, 4057, 4073, 4079, 4091, 4093, 4099, 4111, 4127, 4129, 4133, 4139, 4153, 4157, 4159, 4177, 4201, 4211, 4217, 4219, 4229, 4231, 4241, 4243, 4253, 4259, 4261, 4271, 4273, 4283, 4289, 4297, 4327, 4337, 4339, 4349, 4357, 4363, 4373, 4391, 4397, 4409, 4421, 4423, 4441, 4447, 4451, 4457, 4463, 4481, 4483, 4493, 4507, 4513, 4517, 4519, 4523, 4547, 4549, 4561, 4567, 4583, 4591, 4597, 4603, 4621, 4637, 4639, 4643, 4649, 4651, 4657, 4663, 4673, 4679, 4691, 4703, 4721, 4723, 4729, 4733, 4751, 4759, 4783, 4787, 4789, 4793, 4799, 4801, 4813, 4817, 4831, 4861, 4871, 4877, 4889, 4903, 4909, 4919, 4931, 4933, 4937, 4943, 4951, 4957, 4967, 4969, 4973, 4987, 4993, 4999, 5003, 5009, 5011, 5021, 5023, 5039, 5051, 5059, 5077, 5081, 5087, 5099, 5101, 5107, 5113, 5119, 5147, 5153, 5167, 5171, 5179, 5189, 5197, 5209, 5227, 5231, 5233, 5237, 5261, 5273, 5279, 5281, 5297, 5303, 5309, 5323, 5333, 5347, 5351, 5381, 5387, 5393, 5399, 5407, 5413, 5417, 5419, 5431, 5437, 5441, 5443, 5449, 5471, 5477, 5479, 5483, 5501, 5503, 5507, 5519, 5521, 5527, 5531, 5557, 5563, 5569, 5573, 5581, 5591, 5623, 5639, 5641, 5647, 5651, 5653, 5657, 5659, 5669, 5683, 5689, 5693, 5701, 5711, 5717, 5737, 5741, 5743, 5749, 5779, 5783, 5791, 5801, 5807, 5813, 5821, 5827, 5839, 5843, 5849, 5851, 5857, 5861, 5867, 5869, 5879, 5881, 5897, 5903, 5923, 5927, 5939, 5953, 5981, 5987, 6007, 6011, 6029, 6037, 6043, 6047, 6053, 6067, 6073, 6079, 6089, 6091, 6101, 6113, 6121, 6131, 6133, 6143, 6151, 6163, 6173, 6197, 6199, 6203, 6211, 6217, 6221, 6229, 6247, 6257, 6263, 6269, 6271, 6277, 6287, 6299, 6301, 6311, 6317, 6323, 6329, 6337, 6343, 6353, 6359, 6361, 6367, 6373, 6379, 6389, 6397, 6421, 6427, 6449, 6451, 6469, 6473, 6481, 6491, 6521, 6529, 6547, 6551, 6553, 6563, 6569, 6571, 6577, 6581, 6599, 6607, 6619, 6637, 6653, 6659, 6661, 6673, 6679, 6689, 6691, 6701, 6703, 6709, 6719, 6733, 6737, 6761, 6763, 6779, 6781, 6791, 6793, 6803, 6823, 6827, 6829, 6833, 6841, 6857, 6863, 6869, 6871, 6883, 6899, 6907, 6911, 6917, 6947, 6949, 6959, 6961, 6967, 6971, 6977, 6983, 6991, 6997, 7001, 7013, 7019, 7027, 7039, 7043, 7057, 7069, 7079, 7103, 7109, 7121, 7127, 7129, 7151, 7159, 7177, 7187, 7193, 7207, 7211, 7213, 7219, 7229, 7237, 7243, 7247, 7253, 7283, 7297, 7307, 7309, 7321, 7331, 7333, 7349, 7351, 7369, 7393, 7411, 7417, 7433, 7451, 7457, 7459, 7477, 7481, 7487, 7489, 7499, 7507, 7517, 7523, 7529, 7537, 7541, 7547, 7549, 7559, 7561, 7573, 7577, 7583, 7589, 7591, 7603, 7607, 7621, 7639, 7643, 7649, 7669, 7673, 7681, 7687, 7691, 7699, 7703, 7717, 7723, 7727, 7741, 7753, 7757, 7759, 7789, 7793, 7817, 7823, 7829, 7841, 7853, 7867, 7873, 7877, 7879, 7883, 7901, 7907, 7919, 7927, 7933, 7937, 7949, 7951, 7963, 7993, 8009, 8011, 8017, 8039, 8053, 8059, 8069, 8081, 8087, 8089, 8093, 8101, 8111, 8117, 8123, 8147, 8161, 8167, 8171, 8179, 8191, 8209, 8219, 8221, 8231, 8233, 8237, 8243, 8263, 8269, 8273, 8287, 8291, 8293, 8297, 8311, 8317, 8329, 8353, 8363, 8369, 8377, 8387, 8389, 8419, 8423, 8429, 8431, 8443, 8447, 8461, 8467, 8501, 8513, 8521, 8527, 8537, 8539, 8543, 8563, 8573, 8581, 8597, 8599, 8609, 8623, 8627, 8629, 8641, 8647, 8663, 8669, 8677, 8681, 8689, 8693, 8699, 8707, 8713, 8719, 8731, 8737, 8741, 8747, 8753, 8761, 8779, 8783, 8803, 8807, 8819, 8821, 8831, 8837, 8839, 8849, 8861, 8863, 8867, 8887, 8893, 8923, 8929, 8933, 8941, 8951, 8963, 8969, 8971, 8999, 9001, 9007, 9011, 9013, 9029, 9041, 9043, 9049, 9059, 9067, 9091, 9103, 9109, 9127, 9133, 9137, 9151, 9157, 9161, 9173, 9181, 9187, 9199, 9203, 9209, 9221, 9227, 9239, 9241, 9257, 9277, 9281, 9283, 9293, 9311, 9319, 9323, 9337, 9341, 9343, 9349, 9371, 9377, 9391, 9397, 9403, 9413, 9419, 9421, 9431, 9433, 9437, 9439, 9461, 9463, 9467, 9473, 9479, 9491, 9497, 9511, 9521, 9533, 9539, 9547, 9551, 9587, 9601, 9613, 9619, 9623, 9629, 9631, 9643, 9649, 9661, 9677, 9679, 9689, 9697, 9719, 9721, 9733, 9739, 9743, 9749, 9767, 9769, 9781, 9787, 9791, 9803, 9811, 9817, 9829, 9833, 9839, 9851, 9857, 9859, 9871, 9883, 9887, 9901, 9907, 9923, 9929, 9931, 9941, 9949, 9967, 9973]\n"
          ],
          "name": "stdout"
        }
      ]
    },
    {
      "cell_type": "code",
      "metadata": {
        "colab": {
          "base_uri": "https://localhost:8080/"
        },
        "id": "XaIcw0NxPEcM",
        "outputId": "68efd6d5-dc1c-4b59-9859-8205d082a156"
      },
      "source": [
        "oddlist = [i for i in range(1,25) if i*i < 25]\r\n",
        "print(oddlist)"
      ],
      "execution_count": 197,
      "outputs": [
        {
          "output_type": "stream",
          "text": [
            "[1, 2, 3, 4]\n"
          ],
          "name": "stdout"
        }
      ]
    },
    {
      "cell_type": "markdown",
      "metadata": {
        "id": "2DRl0ljcX3VM"
      },
      "source": [
        "#***functions***"
      ]
    },
    {
      "cell_type": "code",
      "metadata": {
        "colab": {
          "base_uri": "https://localhost:8080/"
        },
        "id": "yIRvmWoAX2_v",
        "outputId": "3420e7ee-6393-4c7a-85a5-c4cf5554ec52"
      },
      "source": [
        "def namefun(a,b,c):\r\n",
        "  print(a,\",\",c,\" and \",b,\"are friends\")\r\n",
        "namefun(\"gulaabi\",\"gouri\",\" shankar\")"
      ],
      "execution_count": 209,
      "outputs": [
        {
          "output_type": "stream",
          "text": [
            "gulaabi ,  shankar  and  gouri are friends\n"
          ],
          "name": "stdout"
        }
      ]
    },
    {
      "cell_type": "code",
      "metadata": {
        "id": "9WBfxCahcsLk"
      },
      "source": [
        "lst=[\"likhith\",\"gulaabi\",\"mayya\",\"saranga\"]\r\n"
      ],
      "execution_count": 210,
      "outputs": []
    },
    {
      "cell_type": "code",
      "metadata": {
        "colab": {
          "base_uri": "https://localhost:8080/"
        },
        "id": "tpkvaI-edBWg",
        "outputId": "13ab8190-4a97-4f45-d68a-c2abb785c25a"
      },
      "source": [
        "physics=int(input())\r\n",
        "chemistry=int(input())\r\n",
        "print(\"mayya\",physics+chemistry)\r\n",
        "physics=int(input())\r\n",
        "chemistry=int(input())\r\n",
        "print(\"gulaabi\",physics+chemistry)\r\n",
        "physics=int(input())\r\n",
        "chemistry=int(input())\r\n",
        "print(\"shetty\",physics+chemistry)"
      ],
      "execution_count": 215,
      "outputs": [
        {
          "output_type": "stream",
          "text": [
            "20\n",
            "20\n",
            "mayya 40\n",
            "20\n",
            "20\n",
            "gulaabi 40\n",
            "20\n",
            "20\n",
            "shetty 40\n"
          ],
          "name": "stdout"
        }
      ]
    },
    {
      "cell_type": "code",
      "metadata": {
        "colab": {
          "base_uri": "https://localhost:8080/"
        },
        "id": "gW2uGgPReyVJ",
        "outputId": "21449139-8823-46ed-cd1c-ef4cc3c75180"
      },
      "source": [
        "def fn(name):\r\n",
        "  x=int(input(\"enter physics marks\"))\r\n",
        "  y=int(input(\"enter chemistry marks\"))\r\n",
        "  return x+y\r\n",
        "lst=[\"likhith\",\"gulaabi\",\"mayya\",\"saranga\"]\r\n",
        "for i in lst:\r\n",
        "  print(fn(i))"
      ],
      "execution_count": 227,
      "outputs": [
        {
          "output_type": "stream",
          "text": [
            "enter physics marks20\n",
            "enter chemistry marks20\n",
            "40\n",
            "enter physics marks20\n",
            "enter chemistry marks30\n",
            "50\n",
            "enter physics marks60\n",
            "enter chemistry marks70\n",
            "130\n",
            "enter physics marks80\n",
            "enter chemistry marks90\n",
            "170\n"
          ],
          "name": "stdout"
        }
      ]
    }
  ]
}